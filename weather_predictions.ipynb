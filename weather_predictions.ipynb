{
 "cells": [
  {
   "cell_type": "code",
   "execution_count": 2,
   "id": "49d81829",
   "metadata": {},
   "outputs": [],
   "source": [
    "import numpy as np\n",
    "import pandas as pd\n",
    "import matplotlib.pyplot as plt\n",
    "import seaborn as sns"
   ]
  },
  {
   "cell_type": "markdown",
   "id": "759d5450",
   "metadata": {},
   "source": [
    "# Definizione del problema\n",
    "\n",
    "Il dataset in esame (https://www.kaggle.com/datasets/ananthr1/weather-prediction/data) contiene dati sulle condizioni meteorologiche di Seattle dal 01/01/2012 al 31/12/2015.\n",
    "L'obiettivo è quello di prevedere le condizioni meteo (es. sole, pioggia, nebbia) di un determinato giorno, si tratta quindi di un problema di classificazione.                                   "
   ]
  },
  {
   "cell_type": "code",
   "execution_count": 3,
   "id": "ef6e7c7f",
   "metadata": {},
   "outputs": [],
   "source": [
    "dataset = pd.read_csv(\"seattle-weather.csv\")"
   ]
  },
  {
   "cell_type": "markdown",
   "id": "c3f54e11",
   "metadata": {},
   "source": [
    "# Analisi del dataset"
   ]
  },
  {
   "cell_type": "code",
   "execution_count": 4,
   "id": "0c399b35",
   "metadata": {},
   "outputs": [
    {
     "data": {
      "text/html": [
       "<div>\n",
       "<style scoped>\n",
       "    .dataframe tbody tr th:only-of-type {\n",
       "        vertical-align: middle;\n",
       "    }\n",
       "\n",
       "    .dataframe tbody tr th {\n",
       "        vertical-align: top;\n",
       "    }\n",
       "\n",
       "    .dataframe thead th {\n",
       "        text-align: right;\n",
       "    }\n",
       "</style>\n",
       "<table border=\"1\" class=\"dataframe\">\n",
       "  <thead>\n",
       "    <tr style=\"text-align: right;\">\n",
       "      <th></th>\n",
       "      <th>date</th>\n",
       "      <th>precipitation</th>\n",
       "      <th>temp_max</th>\n",
       "      <th>temp_min</th>\n",
       "      <th>wind</th>\n",
       "      <th>weather</th>\n",
       "    </tr>\n",
       "  </thead>\n",
       "  <tbody>\n",
       "    <tr>\n",
       "      <th>0</th>\n",
       "      <td>2012-01-01</td>\n",
       "      <td>0.0</td>\n",
       "      <td>12.8</td>\n",
       "      <td>5.0</td>\n",
       "      <td>4.7</td>\n",
       "      <td>drizzle</td>\n",
       "    </tr>\n",
       "    <tr>\n",
       "      <th>1</th>\n",
       "      <td>2012-01-02</td>\n",
       "      <td>10.9</td>\n",
       "      <td>10.6</td>\n",
       "      <td>2.8</td>\n",
       "      <td>4.5</td>\n",
       "      <td>rain</td>\n",
       "    </tr>\n",
       "    <tr>\n",
       "      <th>2</th>\n",
       "      <td>2012-01-03</td>\n",
       "      <td>0.8</td>\n",
       "      <td>11.7</td>\n",
       "      <td>7.2</td>\n",
       "      <td>2.3</td>\n",
       "      <td>rain</td>\n",
       "    </tr>\n",
       "    <tr>\n",
       "      <th>3</th>\n",
       "      <td>2012-01-04</td>\n",
       "      <td>20.3</td>\n",
       "      <td>12.2</td>\n",
       "      <td>5.6</td>\n",
       "      <td>4.7</td>\n",
       "      <td>rain</td>\n",
       "    </tr>\n",
       "    <tr>\n",
       "      <th>4</th>\n",
       "      <td>2012-01-05</td>\n",
       "      <td>1.3</td>\n",
       "      <td>8.9</td>\n",
       "      <td>2.8</td>\n",
       "      <td>6.1</td>\n",
       "      <td>rain</td>\n",
       "    </tr>\n",
       "  </tbody>\n",
       "</table>\n",
       "</div>"
      ],
      "text/plain": [
       "         date  precipitation  temp_max  temp_min  wind  weather\n",
       "0  2012-01-01            0.0      12.8       5.0   4.7  drizzle\n",
       "1  2012-01-02           10.9      10.6       2.8   4.5     rain\n",
       "2  2012-01-03            0.8      11.7       7.2   2.3     rain\n",
       "3  2012-01-04           20.3      12.2       5.6   4.7     rain\n",
       "4  2012-01-05            1.3       8.9       2.8   6.1     rain"
      ]
     },
     "execution_count": 4,
     "metadata": {},
     "output_type": "execute_result"
    }
   ],
   "source": [
    "dataset.head()"
   ]
  },
  {
   "cell_type": "markdown",
   "id": "21512114",
   "metadata": {},
   "source": [
    "Descrizione delle feature:\n",
    "- date -> data di riferimento\n",
    "- precipitation -> valore numerico che indica l'intensità delle precipitazioni in qualunque forma (pioggia, neve, ...)\n",
    "- temp_max -> temperatura massima giornaliera\n",
    "- temp_min -> temperaura minima giornaliera\n",
    "- wind -> intensità del vento\n",
    "- weather -> etichetta che indica le condizioni meteorologiche della giornata\n",
    "\n",
    "In questo caso la feature target è \"weather\", ossia si vuole prevedere le condizioni meteorologiche di una certa giornata.\n",
    "\n",
    "Almeno inizialmente saranno prese in considerazione tutte le altre feature ai fini della predizione."
   ]
  },
  {
   "cell_type": "markdown",
   "id": "0762e129",
   "metadata": {},
   "source": [
    "Si vuole ora verificare che sia effettivamente presente una riga per ogni data nell'intervallo. "
   ]
  },
  {
   "cell_type": "code",
   "execution_count": null,
   "id": "73425814",
   "metadata": {},
   "outputs": [
    {
     "name": "stdout",
     "output_type": "stream",
     "text": [
      "True\n"
     ]
    }
   ],
   "source": [
    "# Si crea una serie contentente tutte le date presenti del dataset\n",
    "dates = pd.to_datetime(dataset['date'])\n",
    "\n",
    "# Si crea l'intervallo completo tra la data minima e massima\n",
    "date_range = pd.date_range(start=dates.min(), end=dates.max(), freq='D')\n",
    "\n",
    "# Si crea una serie con le date mancanti e si verifica che sia vuota\n",
    "missing_dates = date_range.difference(dates)\n",
    "print(missing_dates.empty)\n"
   ]
  },
  {
   "cell_type": "markdown",
   "id": "cb24ba50",
   "metadata": {},
   "source": [
    "Tutte le date nell'intervallo risultano presenti, questo rende il dataset comodamente utilizzabile come serie temporale."
   ]
  },
  {
   "cell_type": "code",
   "execution_count": null,
   "id": "ae34c5f9",
   "metadata": {},
   "outputs": [],
   "source": []
  }
 ],
 "metadata": {
  "kernelspec": {
   "display_name": "base",
   "language": "python",
   "name": "python3"
  },
  "language_info": {
   "codemirror_mode": {
    "name": "ipython",
    "version": 3
   },
   "file_extension": ".py",
   "mimetype": "text/x-python",
   "name": "python",
   "nbconvert_exporter": "python",
   "pygments_lexer": "ipython3",
   "version": "3.11.5"
  }
 },
 "nbformat": 4,
 "nbformat_minor": 5
}
